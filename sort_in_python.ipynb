{
 "cells": [
  {
   "cell_type": "markdown",
   "metadata": {},
   "source": [
    "# 经典排序方法的Python实现"
   ]
  },
  {
   "cell_type": "code",
   "execution_count": 1,
   "metadata": {},
   "outputs": [
    {
     "data": {
      "text/plain": [
       "[2, 2, 3, 4, 5, 5, 14]"
      ]
     },
     "execution_count": 1,
     "metadata": {},
     "output_type": "execute_result"
    }
   ],
   "source": [
    "# 1.冒泡排序\n",
    "# 平均时间复杂度：O(n2)\n",
    "# 最好情况:O(n)\n",
    "# 最坏情况:O(n2)\n",
    "# 空间复杂度:O(1)\n",
    "# 排序方式:in_place\n",
    "# 稳定性:稳定\n",
    "\n",
    "def bubbleSort(arr):\n",
    "    for i in range(1,len(arr)):\n",
    "        for j in range(0,len(arr)-i):\n",
    "            if arr[j]>arr[j+1]:\n",
    "                arr[j],arr[j+1]=arr[j+1],arr[j]\n",
    "    return arr\n",
    "arr = [3,4,5,2,14,5,2]\n",
    "bubbleSort(arr)"
   ]
  },
  {
   "cell_type": "code",
   "execution_count": 2,
   "metadata": {},
   "outputs": [
    {
     "data": {
      "text/plain": [
       "[2, 2, 3, 4, 5, 5, 14]"
      ]
     },
     "execution_count": 2,
     "metadata": {},
     "output_type": "execute_result"
    }
   ],
   "source": [
    "# 2.选择排序\n",
    "# 平均时间复杂度：O(n2)\n",
    "# 最好情况:O(n2)\n",
    "# 最坏情况:O(n2)\n",
    "# 空间复杂度:O(1)\n",
    "# 排序方式:in_place\n",
    "# 稳定性:不稳定\n",
    "def selectionSort(arr):\n",
    "    for i in range(0,len(arr)-1):\n",
    "        minindex = i\n",
    "        for j in range(i+1,len(arr)):\n",
    "            if arr[j]<arr[minindex]:\n",
    "                minindex=j\n",
    "        if minindex!=i:\n",
    "            arr[i],arr[minindex]=arr[minindex],arr[i]\n",
    "    return arr\n",
    "arr = [3,4,5,2,14,5,2]\n",
    "selectionSort(arr)"
   ]
  },
  {
   "cell_type": "code",
   "execution_count": 4,
   "metadata": {},
   "outputs": [
    {
     "data": {
      "text/plain": [
       "[2, 2, 3, 4, 5, 5, 14]"
      ]
     },
     "execution_count": 4,
     "metadata": {},
     "output_type": "execute_result"
    }
   ],
   "source": [
    "# 3.插入排序(打扑克)\n",
    "# 平均时间复杂度：O(n2)\n",
    "# 最好情况:O(n)\n",
    "# 最坏情况:O(n2)\n",
    "# 空间复杂度:O(1)\n",
    "# 排序方式:in_place\n",
    "# 稳定性:稳定 \n",
    "def insertionSort(arr):\n",
    "    for i in range(len(arr)):\n",
    "        current = arr[i] # 暂存\n",
    "        preindex = i-1\n",
    "        while preindex>=0 and arr[preindex]>current: # 后移一位\n",
    "            arr[preindex+1]=arr[preindex]\n",
    "            preindex-=1\n",
    "        arr[preindex+1]=current\n",
    "    return arr\n",
    "arr = [3,4,5,2,14,5,2]\n",
    "insertionSort(arr)"
   ]
  },
  {
   "cell_type": "code",
   "execution_count": 13,
   "metadata": {},
   "outputs": [
    {
     "data": {
      "text/plain": [
       "[0, 2, 2, 3, 4, 5, 5, 9, 11, 12, 14, 22, 23]"
      ]
     },
     "execution_count": 13,
     "metadata": {},
     "output_type": "execute_result"
    }
   ],
   "source": [
    "# 4.希尔排序(插入排序的高效版本，注意是不稳定的，复杂度在O(N)-0(N2))\n",
    "# 平均时间复杂度：\n",
    "# 最好情况:\n",
    "# 最坏情况:\n",
    "# 空间复杂度:O(1)\n",
    "# 排序方式:in_place\n",
    "# 稳定性:不稳定\n",
    "import math\n",
    "def shellSort(arr):\n",
    "    gap = 1\n",
    "    k=3\n",
    "    while (gap<len(arr)/k):\n",
    "        gap=gap*k+1\n",
    "    while gap>0:\n",
    "        for i in range(gap,len(arr)): \n",
    "            current = arr[i]\n",
    "            j = i-gap\n",
    "            while j>=0 and arr[j]>current:\n",
    "                arr[j+gap]=arr[j]\n",
    "                j-=gap\n",
    "            arr[j+gap]=current\n",
    "        gap = math.floor(gap/k)\n",
    "    return arr\n",
    "            \n",
    "arr = [3,4,5,2,14,5,2,11,23,22,12,9,0]\n",
    "shellSort(arr)"
   ]
  },
  {
   "cell_type": "code",
   "execution_count": 14,
   "metadata": {},
   "outputs": [
    {
     "data": {
      "text/plain": [
       "[0, 2, 2, 3, 4, 5, 5, 9, 11, 12, 14, 22, 23]"
      ]
     },
     "execution_count": 14,
     "metadata": {},
     "output_type": "execute_result"
    }
   ],
   "source": [
    "# 5.归并排序（基于分治算法divide and conquer）\n",
    "# 平均时间复杂度：O(nlogn)\n",
    "# 最好情况:O(nlogn)\n",
    "# 最坏情况:O(nlogn)\n",
    "# 空间复杂度:O(n)\n",
    "# 排序方式:out_place\n",
    "# 稳定性:稳定\n",
    "import math\n",
    "def merge(rightarr,leftarr):\n",
    "    res = []\n",
    "    while rightarr and leftarr:\n",
    "        if rightarr[0]<leftarr[0]:\n",
    "            res.append(rightarr.pop(0))\n",
    "        else:\n",
    "            res.append(leftarr.pop(0))\n",
    "    if rightarr:\n",
    "        res+= rightarr\n",
    "    if leftarr:\n",
    "        res+=leftarr\n",
    "    return res\n",
    "\n",
    "def mergeSort(arr):\n",
    "    if len(arr)<=1:\n",
    "        return arr\n",
    "    middle = math.floor(len(arr)/2)\n",
    "    right,left = arr[0:middle],arr[middle:]\n",
    "    return merge(mergeSort(right),mergeSort(left))\n",
    "arr = [3,4,5,2,14,5,2,11,23,22,12,9,0]\n",
    "mergeSort(arr)  "
   ]
  },
  {
   "cell_type": "code",
   "execution_count": 37,
   "metadata": {},
   "outputs": [
    {
     "data": {
      "text/plain": [
       "[0, 2, 2, 3, 4, 5, 5, 9, 12, 14, 21, 22, 32]"
      ]
     },
     "execution_count": 37,
     "metadata": {},
     "output_type": "execute_result"
    }
   ],
   "source": [
    "# 6.快速排序(快排的ineer loop可以很高效地在大部分架构上实现出来，比大部分nlogn的排序更高效，可以理解为O(nlogn)中隐含的常数因子较归并排序等小很多)\n",
    "# 平均时间复杂度：O(nlogn)\n",
    "# 最好情况:O(nlogn)\n",
    "# 最坏情况:O(n2)\n",
    "# 空间复杂度:O(n)\n",
    "# 排序方式:in_place\n",
    "# 稳定性:不稳定\n",
    "# 算法的三个关键：pivot,partition,recursion\n",
    "def partition(arr,left,right):\n",
    "    pivot = arr[left]\n",
    "    while left<right:\n",
    "        while left<right and arr[right]>=pivot:\n",
    "            right-=1\n",
    "        arr[left]=arr[right]\n",
    "        while left<right and arr[left]<=pivot:\n",
    "            left+=1\n",
    "        arr[right]=arr[left]\n",
    "    arr[left]=pivot\n",
    "    return left\n",
    "def quickSort(arr,left,right):\n",
    "    if left<right:\n",
    "        partitionIndex = partition(arr,left,right)\n",
    "        quickSort(arr,left,partitionIndex-1)\n",
    "        quickSort(arr,partitionIndex+1,right)\n",
    "    return arr\n",
    "\n",
    "arr = [3,4,5,2,14,5,2,22,9,32,12,21,0]\n",
    "quickSort(arr,0,len(arr)-1)  \n"
   ]
  },
  {
   "cell_type": "code",
   "execution_count": 51,
   "metadata": {},
   "outputs": [
    {
     "name": "stdout",
     "output_type": "stream",
     "text": [
      "[21, 8, 10, 2, 4, 3, 5, 0]\n"
     ]
    },
    {
     "data": {
      "text/plain": [
       "[0, 2, 3, 4, 5, 8, 10, 21]"
      ]
     },
     "execution_count": 51,
     "metadata": {},
     "output_type": "execute_result"
    }
   ],
   "source": [
    "# 7.堆排序\n",
    "# 大顶堆：节点值>子节点；小顶堆：子节点>节点值\n",
    "# 平均时间复杂度：O(nlogn)\n",
    "# 最好情况:O(nlogn)\n",
    "# 最坏情况:O(nlogn)\n",
    "# 空间复杂度:O(1)\n",
    "# 排序方式:in_place\n",
    "# 稳定性:不稳定\n",
    "import math\n",
    "def heapify(arr,i):\n",
    "    left = 2*i+1\n",
    "    right = 2*i+2\n",
    "    largest = i \n",
    "    if left<arrLen and arr[left]>arr[largest]:\n",
    "        largest=left\n",
    "    if right<arrLen and arr[right]>arr[largest]:\n",
    "        largest=right\n",
    "    if largest != i:\n",
    "        arr[i],arr[largest] = arr[largest],arr[i]\n",
    "        heapify(arr,largest)\n",
    "        \n",
    "def buildMaxHeap(arr):\n",
    "    for i in range(math.floor(len(arr)/2),-1,-1):\n",
    "        heapify(arr,i)\n",
    "\n",
    "def heapSort(arr):\n",
    "    global arrLen \n",
    "    arrLen = len(arr)\n",
    "    buildMaxHeap(arr)\n",
    "    print(arr)\n",
    "    for i in range(len(arr)-1,0,-1):\n",
    "        arr[0],arr[i] = arr[i],arr[0]\n",
    "        arrLen-=1\n",
    "        heapify(arr,0) # 替换堆顶\n",
    "    return arr\n",
    "        \n",
    "arr = [3,4,5,2,8,10,21,0]\n",
    "heapSort(arr)  "
   ]
  },
  {
   "cell_type": "code",
   "execution_count": 54,
   "metadata": {},
   "outputs": [
    {
     "data": {
      "text/plain": [
       "[0, 2, 3, 4, 4, 5, 5, 8, 10, 21]"
      ]
     },
     "execution_count": 54,
     "metadata": {},
     "output_type": "execute_result"
    }
   ],
   "source": [
    "# 8.计数排序 （输入为确定范围内的整数）\n",
    "# 平均时间复杂度：O(n+k)\n",
    "# 最好情况:O(n+k)\n",
    "# 最坏情况:O(n+k)\n",
    "# 空间复杂度:O(k)\n",
    "# 排序方式:out_place\n",
    "# 稳定性:稳定\n",
    "def countingSort(arr,maxval):\n",
    "    bucketLen = maxval+1\n",
    "    bucket = [0 for _ in range(bucketLen)]\n",
    "    for n in arr:\n",
    "        bucket[n]+=1\n",
    "    sortindex = 0\n",
    "    for i in range(bucketLen):\n",
    "        while bucket[i]>0:\n",
    "            arr[sortindex]=i\n",
    "            bucket[i]-=1\n",
    "            sortindex+=1\n",
    "    return arr\n",
    "arr = [3,4,5,2,8,5,4,10,21,0]\n",
    "countingSort(arr,max(arr))  "
   ]
  },
  {
   "cell_type": "code",
   "execution_count": 58,
   "metadata": {},
   "outputs": [
    {
     "name": "stdout",
     "output_type": "stream",
     "text": [
      "[[3, 4, 5, 2, 5, 4, 0], [8, 10], [], [21]]\n"
     ]
    },
    {
     "data": {
      "text/plain": [
       "[0, 2, 3, 4, 4, 5, 5, 8, 10, 21]"
      ]
     },
     "execution_count": 58,
     "metadata": {},
     "output_type": "execute_result"
    }
   ],
   "source": [
    "# 9.桶排序\n",
    "# 平均时间复杂度：O(n+k)\n",
    "# 最好情况:O(n+k)\n",
    "# 最坏情况:O(n2)\n",
    "# 空间复杂度:O(n+k)\n",
    "# 排序方式:out_place\n",
    "# 稳定性:稳定\n",
    "import math\n",
    "def bucketSort(arr,k=None):\n",
    "    if not k:\n",
    "        k=len(arr)\n",
    "    minval,maxval = min(arr),max(arr)\n",
    "    bucket_range = (maxval-minval)/k\n",
    "    bucket = [[] for i in range(k+1)]\n",
    "    for i in arr:\n",
    "        bucket[int((i-minval)/bucket_range)].append(i)\n",
    "    \n",
    "    print(bucket)\n",
    "    sortindex = 0\n",
    "    for i in range(k+1):\n",
    "        for j in sorted(bucket[i]):\n",
    "            arr[sortindex]=j\n",
    "            sortindex+=1\n",
    "    return arr\n",
    "arr = [3,4,5,2,8,5,4,10,21,0]\n",
    "bucketSort(arr,3)   "
   ]
  },
  {
   "cell_type": "code",
   "execution_count": 66,
   "metadata": {},
   "outputs": [
    {
     "data": {
      "text/plain": [
       "[0, 2, 3, 4, 4, 5, 5, 8, 10, 21]"
      ]
     },
     "execution_count": 66,
     "metadata": {},
     "output_type": "execute_result"
    }
   ],
   "source": [
    "# 10.基数排序\n",
    "# 平均时间复杂度：O(nxk)\n",
    "# 最好情况:O(nxk)\n",
    "# 最坏情况:O(nxk)\n",
    "# 空间复杂度:O(n+k)\n",
    "# 排序方式:out_place\n",
    "# 稳定性:稳定\n",
    "def radixSort(arr):\n",
    "    i=0\n",
    "    n=1\n",
    "    max_num=max(arr)\n",
    "    while max_num > 10**n: # 最大数是几位数\n",
    "        n+=1 \n",
    "    while i <n:\n",
    "        bucket = {} # 桶\n",
    "        for x in range(10):\n",
    "            bucket.setdefault(x,[]) # 置空\n",
    "        for x in arr:\n",
    "            radix = int((x/(10**i))%10) # 基数\n",
    "            bucket[radix].append(x)\n",
    "        j=0\n",
    "        for k in range(10):\n",
    "            if len(bucket[k])!=0:\n",
    "                for x in bucket[k]:\n",
    "                    arr[j]=x\n",
    "                    j+=1\n",
    "        i+=1\n",
    "    return arr\n",
    "arr = [3,4,5,2,8,5,4,10,21,0]\n",
    "radixSort(arr)         "
   ]
  },
  {
   "cell_type": "code",
   "execution_count": null,
   "metadata": {},
   "outputs": [],
   "source": []
  }
 ],
 "metadata": {
  "kernelspec": {
   "display_name": "Python 3",
   "language": "python",
   "name": "python3"
  },
  "language_info": {
   "codemirror_mode": {
    "name": "ipython",
    "version": 3
   },
   "file_extension": ".py",
   "mimetype": "text/x-python",
   "name": "python",
   "nbconvert_exporter": "python",
   "pygments_lexer": "ipython3",
   "version": "3.7.4"
  }
 },
 "nbformat": 4,
 "nbformat_minor": 2
}
